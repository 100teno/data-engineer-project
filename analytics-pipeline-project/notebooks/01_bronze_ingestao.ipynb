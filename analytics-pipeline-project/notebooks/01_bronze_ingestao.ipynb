{
 "cells": [
  {
   "cell_type": "code",
   "execution_count": 0,
   "metadata": {
    "application/vnd.databricks.v1+cell": {
     "cellMetadata": {
      "byteLimit": 2048000,
      "rowLimit": 10000
     },
     "inputWidgets": {},
     "nuid": "abdc0b11-6304-43cd-aca0-0d35dc24f2dd",
     "showTitle": true,
     "tableResultSettingsMap": {},
     "title": "Reading the database"
    },
    "jupyter": {
     "outputs_hidden": true
    }
   },
   "outputs": [],
   "source": [
    "import re\n",
    "import pyspark.sql.types\n",
    "from pyspark.sql import functions as fc\n",
    "\n",
    "\n",
    "file_path = \"/Volumes/workspace/default/data-volume/1970-2021_DISASTERS.xlsx - emdat data.csv\"\n",
    "\n",
    "df = spark.read.csv(file_path, header=True, inferSchema=True)\n"
   ]
  },
  {
   "cell_type": "code",
   "execution_count": 0,
   "metadata": {
    "application/vnd.databricks.v1+cell": {
     "cellMetadata": {
      "byteLimit": 2048000,
      "rowLimit": 10000
     },
     "inputWidgets": {},
     "nuid": "6b72e26c-105e-484f-8869-06e2b6bad3dc",
     "showTitle": true,
     "tableResultSettingsMap": {},
     "title": "Checking table structure and data"
    }
   },
   "outputs": [],
   "source": [
    "display(df.limit(10))\n",
    "\n",
    "df.printSchema()\n",
    "\n",
    "# Colunas que devem ser observadas: Dis No, Seq, ISO, Associated Dis, Associated Dis2, Dis Mag Value, Dis Mag Scale, Reconstruction Costs ('000 US$), Insured Damages ('000 US$),\n",
    "# #Total Damages ('000 US$)"
   ]
  },
  {
   "cell_type": "code",
   "execution_count": 0,
   "metadata": {
    "application/vnd.databricks.v1+cell": {
     "cellMetadata": {
      "byteLimit": 2048000,
      "rowLimit": 10000
     },
     "inputWidgets": {},
     "nuid": "8d158133-eba2-4d1e-97a9-c91c5489ad5a",
     "showTitle": true,
     "tableResultSettingsMap": {},
     "title": "Adjusting column names with spaces and symbols"
    }
   },
   "outputs": [],
   "source": [
    "def clean_column(col_name):\n",
    "    col_name = col_name.lower()                                 #transforma em minusculas\n",
    "    col_name = col_name.replace(\" \", \"_\").replace(\"-\", \"_\")     #remove espaços e traços por underscore                                    \n",
    "    col_name = re.sub(r\"[ ,;{}()\\n\\t=]\", \"_\", col_name)         # troca caracteres problemáticos por _\n",
    "    col_name = re.sub(r\"[^0-9a-zA-Z_]\", \"\", col_name)           # remove qualquer outro caractere especial\n",
    "    col_name = re.sub(r\"_+\", \"_\", col_name)                     # colapsa underscores duplos\n",
    "    col_name = col_name.strip(\"_\")                              # remove _ no início/fim\n",
    "    \n",
    "    return col_name\n",
    "\n",
    "#aplica a função em todas as colunas do dataframe, percorrendo com o loop for\n",
    "df = df.toDF(*[clean_column(c) for c in df.columns])"
   ]
  },
  {
   "cell_type": "code",
   "execution_count": 0,
   "metadata": {
    "application/vnd.databricks.v1+cell": {
     "cellMetadata": {
      "byteLimit": 2048000,
      "rowLimit": 10000
     },
     "inputWidgets": {},
     "nuid": "0c44a8e8-babf-4ebc-8302-5585f98ab743",
     "showTitle": true,
     "tableResultSettingsMap": {},
     "title": "Saving df as Delta and partitioning"
    }
   },
   "outputs": [],
   "source": [
    "df.write \\\n",
    "    .format(\"delta\") \\\n",
    "    .mode(\"overwrite\") \\\n",
    "    .saveAsTable(\"bronze_disasters\")\n",
    "\n",
    "df.display()"
   ]
  },
  {
   "cell_type": "code",
   "execution_count": 0,
   "metadata": {
    "application/vnd.databricks.v1+cell": {
     "cellMetadata": {
      "byteLimit": 2048000,
      "implicitDf": true,
      "rowLimit": 10000
     },
     "collapsed": true,
     "inputWidgets": {},
     "nuid": "8d9bc90f-5a0b-43d1-9539-6fce00fb4735",
     "showTitle": true,
     "tableResultSettingsMap": {},
     "title": "Checking if it worked and the DataFrame turned into Delta Table"
    }
   },
   "outputs": [],
   "source": [
    "%sql\n",
    "\n",
    "DESCRIBE DETAIL `bronze_disasters`\n"
   ]
  },
  {
   "cell_type": "code",
   "execution_count": 0,
   "metadata": {
    "application/vnd.databricks.v1+cell": {
     "cellMetadata": {
      "byteLimit": 2048000,
      "rowLimit": 10000
     },
     "inputWidgets": {},
     "nuid": "b8ea6dda-e582-4c0c-ab70-64b7fe53b4d0",
     "showTitle": true,
     "tableResultSettingsMap": {
      "0": {
       "dataGridStateBlob": "{\"version\":1,\"tableState\":{\"columnPinning\":{\"left\":[\"#row_number#\"],\"right\":[]},\"columnSizing\":{},\"columnVisibility\":{}},\"settings\":{\"columns\":{}},\"syncTimestamp\":1754917843739}",
       "filterBlob": "{\"version\":1,\"filterGroups\":[{\"enabled\":false,\"op\":\"OR\",\"filterGroupId\":\"fg_a6e23f3b\",\"filters\":[{\"filterId\":\"f_3c25e4e4\",\"columnId\":\"glide\",\"enabled\":true,\"dataType\":\"string\",\"filterType\":\"nulln\",\"filterConfig\":{}}],\"local\":false,\"updatedAt\":1754917858823},{\"enabled\":true,\"filterGroupId\":\"fg_b9df75a0\",\"op\":\"OR\",\"filters\":[{\"filterId\":\"f_62247666\",\"enabled\":true,\"columnId\":\"disaster_subtype\",\"dataType\":\"string\",\"filterType\":\"nulln\"}],\"local\":false,\"updatedAt\":1754917912938},{\"enabled\":true,\"filterGroupId\":\"fg_c8bc8199\",\"op\":\"OR\",\"filters\":[{\"filterId\":\"f_93f9d142\",\"enabled\":true,\"columnId\":\"event_name\",\"dataType\":\"string\",\"filterType\":\"nulln\"}],\"local\":false,\"updatedAt\":1754917925751},{\"enabled\":true,\"filterGroupId\":\"fg_2f6045a6\",\"op\":\"OR\",\"filters\":[{\"filterId\":\"f_3fa91540\",\"enabled\":true,\"columnId\":\"event_name\",\"dataType\":\"string\",\"filterType\":\"oneof\"}],\"local\":false,\"updatedAt\":1754917930202},{\"enabled\":true,\"filterGroupId\":\"fg_e6c14680\",\"op\":\"OR\",\"filters\":[{\"filterId\":\"f_f88227f5\",\"enabled\":true,\"columnId\":\"event_name\",\"dataType\":\"string\",\"filterType\":\"oneof\"}],\"local\":false,\"updatedAt\":1754917943678}],\"syncTimestamp\":1754917943678}",
       "queryPlanFiltersBlob": "[{\"kind\":\"call\",\"function\":\"and\",\"args\":[{\"kind\":\"call\",\"function\":\"or\",\"args\":[{\"kind\":\"call\",\"function\":\"not\",\"args\":[{\"kind\":\"call\",\"function\":\"in\",\"args\":[{\"kind\":\"identifier\",\"identifier\":\"disaster_subtype\"},{\"kind\":\"literal\",\"value\":null,\"type\":\"string\"}]}]}]},{\"kind\":\"call\",\"function\":\"or\",\"args\":[{\"kind\":\"call\",\"function\":\"not\",\"args\":[{\"kind\":\"call\",\"function\":\"in\",\"args\":[{\"kind\":\"identifier\",\"identifier\":\"event_name\"},{\"kind\":\"literal\",\"value\":null,\"type\":\"string\"}]}]}]}]}]",
       "tableResultIndex": 0
      }
     },
     "title": "Loading Bronze Delta Table"
    }
   },
   "outputs": [],
   "source": [
    "df = spark.table(\"bronze_disasters\")"
   ]
  }
 ],
 "metadata": {
  "application/vnd.databricks.v1+notebook": {
   "computePreferences": null,
   "dashboards": [],
   "environmentMetadata": {
    "base_environment": "",
    "environment_version": "2"
   },
   "inputWidgetPreferences": null,
   "language": "python",
   "notebookMetadata": {
    "mostRecentlyExecutedCommandWithImplicitDF": {
     "commandId": 6045802507714944,
     "dataframes": [
      "_sqldf"
     ]
    },
    "pythonIndentUnit": 4
   },
   "notebookName": "01_bronze_ingestao",
   "widgets": {}
  },
  "language_info": {
   "name": "python"
  }
 },
 "nbformat": 4,
 "nbformat_minor": 0
}
