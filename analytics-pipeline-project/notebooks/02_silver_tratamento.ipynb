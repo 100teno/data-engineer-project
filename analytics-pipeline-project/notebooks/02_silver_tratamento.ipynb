{
 "cells": [
  {
   "cell_type": "code",
   "execution_count": 0,
   "metadata": {
    "application/vnd.databricks.v1+cell": {
     "cellMetadata": {
      "byteLimit": 2048000,
      "rowLimit": 10000
     },
     "inputWidgets": {},
     "nuid": "12a6e0bd-37d9-48d4-a1c7-d43da6183468",
     "showTitle": true,
     "tableResultSettingsMap": {},
     "title": "Loading a df with bronze_disasters delta table data"
    }
   },
   "outputs": [],
   "source": [
    "from pyspark.sql.functions import col, when, concat_ws, to_date\n",
    "\n",
    "df_disasters = spark.table(\"bronze.bronze_disasters\")"
   ]
  },
  {
   "cell_type": "code",
   "execution_count": 0,
   "metadata": {
    "application/vnd.databricks.v1+cell": {
     "cellMetadata": {
      "byteLimit": 2048000,
      "rowLimit": 10000
     },
     "inputWidgets": {},
     "nuid": "aa740174-e040-4784-a5a9-5641ba49ef37",
     "showTitle": true,
     "tableResultSettingsMap": {
      "0": {
       "dataGridStateBlob": "{\"version\":1,\"tableState\":{\"columnPinning\":{\"left\":[\"#row_number#\"],\"right\":[]},\"columnSizing\":{},\"columnVisibility\":{}},\"settings\":{\"columns\":{}},\"syncTimestamp\":1754938148509}",
       "filterBlob": null,
       "queryPlanFiltersBlob": null,
       "tableResultIndex": 0
      }
     },
     "title": "Transforming data with functions and conversion"
    }
   },
   "outputs": [],
   "source": [
    "# Checando a lista de colunas do tipo string e atribuindo à uma variável de lista.\n",
    "string_columns = [f.name for f in df_disasters.schema.fields if f.dataType.typeName == 'string']\n",
    "\n",
    "df_normalizado = df_disasters\n",
    "\n",
    "# Criando um novo DataFrame e aplicando as transformações de lower() e trim() nos campos de string\n",
    "for coluna in string_columns:\n",
    "    df_normalizado = df_normalizado.withColumn(\n",
    "        coluna,\n",
    "        lower(trim(col(coluna)))\n",
    "    )\n",
    "\n",
    "# Removendo caracteres invisíveis \n",
    "for coluna in string_columns:\n",
    "    df_normalizado = df_normalizado.withColumn(\n",
    "        coluna,\n",
    "        regexp_replace(col(coluna), r'[\\u0000-\\u001F\\u007F-\\u009F]','')\n",
    "    )\n",
    "\n",
    "# Exibindo o schema para validar as transformações\n",
    "#df_normalizado.printSchema()\n",
    "df_normalizado.limit(10).display()\n"
   ]
  },
  {
   "cell_type": "code",
   "execution_count": 0,
   "metadata": {
    "application/vnd.databricks.v1+cell": {
     "cellMetadata": {
      "byteLimit": 2048000,
      "rowLimit": 10000
     },
     "inputWidgets": {},
     "nuid": "c8f1916c-a6df-47b8-9502-c605e2df8c75",
     "showTitle": true,
     "tableResultSettingsMap": {},
     "title": "Converting the columns with correct types, and creating start_date / end_date"
    }
   },
   "outputs": [],
   "source": [
    "from pyspark.sql import functions as F\n",
    "\n",
    "df_silver = (\n",
    "    df_normalizado\n",
    "    # Substitui valores que indicam nulo pelo padrão do Spark (None)\n",
    "    .replace([\"null\", \"n/a\", \"na\", \"unknow\", \"unknown\", \"\"], None)\n",
    "\n",
    "    # Converte campos booleanos\n",
    "    .withColumn(\n",
    "        \"ofda_response\",\n",
    "        F.when(F.col(\"ofda_response\").isin(\"yes\", \"y\", \"1\", \"true\"), True)\n",
    "         .when(F.col(\"ofda_response\").isin(\"no\", \"n\", \"0\", \"false\"), False)\n",
    "         .otherwise(None)\n",
    "    )\n",
    "    .withColumn(\n",
    "        \"appeal\",\n",
    "        F.when(F.col(\"appeal\").isin(\"yes\", \"y\", \"1\", \"true\"), True)\n",
    "         .when(F.col(\"appeal\").isin(\"no\", \"n\", \"0\", \"false\"), False)\n",
    "         .otherwise(None)\n",
    "    )\n",
    "    .withColumn(\n",
    "        \"declaration\",\n",
    "        F.when(F.col(\"declaration\").isin(\"yes\", \"y\", \"1\", \"true\"), True)\n",
    "         .when(F.col(\"declaration\").isin(\"no\", \"n\", \"0\", \"false\"), False)\n",
    "         .otherwise(None)\n",
    "    )\n",
    "\n",
    "    # Conversões numéricas simples\n",
    "    .withColumn(\"year\", F.col(\"year\").cast(\"int\"))\n",
    "    .withColumn(\"start_year\", F.col(\"start_year\").cast(\"int\"))\n",
    "    .withColumn(\"start_month\", F.col(\"start_month\").cast(\"int\"))\n",
    "    .withColumn(\"start_day\", F.col(\"start_day\").cast(\"int\"))\n",
    "    .withColumn(\"end_year\", F.col(\"end_year\").cast(\"int\"))\n",
    "    .withColumn(\"end_month\", F.col(\"end_month\").cast(\"int\"))\n",
    "    .withColumn(\"end_day\", F.col(\"end_day\").cast(\"int\"))\n",
    "\n",
    "    # Latitude com limpeza segura\n",
    "    .withColumn(\n",
    "        \"latitude_clean\",\n",
    "        F.when(F.col(\"latitude\").isNotNull(),\n",
    "               F.when(F.col(\"latitude\").rlike(\"(?i)[Ss]\"),\n",
    "                      -F.expr(\"try_cast(regexp_replace(latitude, '[^0-9\\\\.\\\\-]', '') as double)\"))\n",
    "                .otherwise(F.expr(\"try_cast(regexp_replace(latitude, '[^0-9\\\\.\\\\-]', '') as double)\"))\n",
    "        ).otherwise(None)\n",
    "    )\n",
    "\n",
    "    # Longitude com limpeza segura\n",
    "    .withColumn(\n",
    "        \"longitude_clean\",\n",
    "        F.when(F.col(\"longitude\").isNotNull(),\n",
    "               F.when(F.col(\"longitude\").rlike(\"(?i)[Ww]\"),\n",
    "                      -F.expr(\"try_cast(regexp_replace(longitude, '[^0-9\\\\.\\\\-]', '') as double)\"))\n",
    "                .otherwise(F.expr(\"try_cast(regexp_replace(longitude, '[^0-9\\\\.\\\\-]', '') as double)\"))\n",
    "        ).otherwise(None)\n",
    "    )\n",
    "\n",
    "    # Outros campos numéricos\n",
    "    .withColumn(\"total_deaths\", F.col(\"total_deaths\").cast(\"int\"))\n",
    "    .withColumn(\"no_injured\", F.col(\"no_injured\").cast(\"int\"))\n",
    "    .withColumn(\"no_affected\", F.col(\"no_affected\").cast(\"int\"))\n",
    "    .withColumn(\"no_homeless\", F.col(\"no_homeless\").cast(\"int\"))\n",
    "    .withColumn(\"total_affected\", F.col(\"total_affected\").cast(\"int\"))\n",
    "    .withColumn(\"reconstruction_costs_000_us\", F.col(\"reconstruction_costs_000_us\").cast(\"double\"))\n",
    "    .withColumn(\"insured_damages_000_us\", F.col(\"insured_damages_000_us\").cast(\"double\"))\n",
    "    .withColumn(\"total_damages_000_us\", F.col(\"total_damages_000_us\").cast(\"double\"))\n",
    "\n",
    "    # Datas\n",
    "    .withColumn(\n",
    "        \"start_date\",\n",
    "        F.to_timestamp(F.concat_ws(\"-\", F.col(\"start_year\"), F.col(\"start_month\"), F.col(\"start_day\")))\n",
    "    )\n",
    "    .withColumn(\n",
    "        \"end_date\",\n",
    "        F.to_timestamp(F.concat_ws(\"-\", F.col(\"end_year\"), F.col(\"end_month\"), F.col(\"end_day\")))\n",
    "    )\n",
    "\n",
    "    # Padroniza país e região\n",
    "    .withColumn(\"country\", F.trim(F.initcap(F.col(\"country\"))))\n",
    "    .withColumn(\"region\", F.trim(F.initcap(F.col(\"region\"))))\n",
    "\n",
    "    # Substitui latitude/longitude originais\n",
    "    .drop(\"latitude\", \"longitude\")\n",
    "    .withColumnRenamed(\"latitude_clean\", \"latitude\")\n",
    "    .withColumnRenamed(\"longitude_clean\", \"longitude\")\n",
    ")\n",
    "\n",
    "df_silver.printSchema()\n"
   ]
  },
  {
   "cell_type": "code",
   "execution_count": 0,
   "metadata": {
    "application/vnd.databricks.v1+cell": {
     "cellMetadata": {
      "byteLimit": 2048000,
      "rowLimit": 10000
     },
     "inputWidgets": {},
     "nuid": "9859600a-0668-484e-8ddb-a0cd6669446f",
     "showTitle": false,
     "tableResultSettingsMap": {},
     "title": ""
    }
   },
   "outputs": [],
   "source": [
    "df_silver.write.format(\"delta\").mode(\"overwrite\").saveAsTable(\"silver.silver_disasters\")\n",
    "\n"
   ]
  }
 ],
 "metadata": {
  "application/vnd.databricks.v1+notebook": {
   "computePreferences": null,
   "dashboards": [],
   "environmentMetadata": {
    "base_environment": "",
    "environment_version": "2"
   },
   "inputWidgetPreferences": null,
   "language": "python",
   "notebookMetadata": {
    "pythonIndentUnit": 4
   },
   "notebookName": "02_silver_tratamento",
   "widgets": {}
  },
  "language_info": {
   "name": "python"
  }
 },
 "nbformat": 4,
 "nbformat_minor": 0
}
